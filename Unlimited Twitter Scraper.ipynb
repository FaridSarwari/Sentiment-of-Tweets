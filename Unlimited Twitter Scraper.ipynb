{
 "cells": [
  {
   "cell_type": "markdown",
   "metadata": {},
   "source": [
    "### Scraping Tweets"
   ]
  },
  {
   "cell_type": "code",
   "execution_count": 2,
   "metadata": {},
   "outputs": [],
   "source": [
    "import snscrape.modules.twitter as sntwitter\n",
    "import pandas as pd"
   ]
  },
  {
   "cell_type": "code",
   "execution_count": 3,
   "metadata": {},
   "outputs": [
    {
     "name": "stdout",
     "output_type": "stream",
     "text": [
      "                          Date      User  \\\n",
      "0    2019-12-31 21:37:06+00:00  elonmusk   \n",
      "1    2019-12-31 06:59:34+00:00  elonmusk   \n",
      "2    2019-12-31 06:57:57+00:00  elonmusk   \n",
      "3    2019-12-31 02:27:28+00:00  elonmusk   \n",
      "4    2019-12-30 23:27:10+00:00  elonmusk   \n",
      "...                        ...       ...   \n",
      "4995 2018-03-23 16:01:55+00:00  elonmusk   \n",
      "4996 2018-03-23 15:54:12+00:00  elonmusk   \n",
      "4997 2018-03-23 15:48:36+00:00  elonmusk   \n",
      "4998 2018-03-23 15:45:50+00:00  elonmusk   \n",
      "4999 2018-03-23 15:44:38+00:00  elonmusk   \n",
      "\n",
      "                                                  Tweet  \n",
      "0             @engineers_feed @physicsJ It’s a bit slow  \n",
      "1                     @JohnnaCrider1 It’s not ready yet  \n",
      "2                            @newscientist Explains 🐈 🎥  \n",
      "3     @teslaownersSV @rhoehn Thanks all Tesla club m...  \n",
      "4         Rest in peace Syd Mead. Your art will endure.  \n",
      "...                                                 ...  \n",
      "4995  @OfficeOfOMAR Yeah, it’s borderline. FB influe...  \n",
      "4996  @serdarsprofile @brianacton I didn’t realize t...  \n",
      "4997  @sathish4vy @brianacton Inconceivable! Who’d s...  \n",
      "4998                       @brianacton What’s Facebook?  \n",
      "4999                @verge Wow, a whole week. Risky ...  \n",
      "\n",
      "[5000 rows x 3 columns]\n"
     ]
    }
   ],
   "source": [
    "#obtaining all tweets from account @elonmusk with the defined date range\n",
    "\n",
    "query = \"(from:elonmusk) until:2020-01-01 since:2010-01-01\"\n",
    "tweets = []\n",
    "limit = 5000\n",
    "\n",
    "\n",
    "for tweet in sntwitter.TwitterSearchScraper(query).get_items():\n",
    "    \n",
    "    # print(vars(tweet))\n",
    "    # break\n",
    "    if len(tweets) == limit:\n",
    "        break\n",
    "    else:\n",
    "        tweets.append([tweet.date, tweet.username, tweet.content])\n",
    "        \n",
    "df = pd.DataFrame(tweets, columns=['Date', 'User', 'Tweet'])\n",
    "print(df)\n",
    "\n",
    "# to save to csv\n",
    "# df.to_csv('tweets.csv')"
   ]
  },
  {
   "cell_type": "code",
   "execution_count": 70,
   "metadata": {},
   "outputs": [
    {
     "data": {
      "text/html": [
       "<div>\n",
       "<style scoped>\n",
       "    .dataframe tbody tr th:only-of-type {\n",
       "        vertical-align: middle;\n",
       "    }\n",
       "\n",
       "    .dataframe tbody tr th {\n",
       "        vertical-align: top;\n",
       "    }\n",
       "\n",
       "    .dataframe thead th {\n",
       "        text-align: right;\n",
       "    }\n",
       "</style>\n",
       "<table border=\"1\" class=\"dataframe\">\n",
       "  <thead>\n",
       "    <tr style=\"text-align: right;\">\n",
       "      <th></th>\n",
       "      <th>Id</th>\n",
       "      <th>Date</th>\n",
       "      <th>User</th>\n",
       "      <th>Tweet</th>\n",
       "    </tr>\n",
       "  </thead>\n",
       "  <tbody>\n",
       "    <tr>\n",
       "      <th>0</th>\n",
       "      <td>0</td>\n",
       "      <td>2019-12-31 21:37:06+00:00</td>\n",
       "      <td>elonmusk</td>\n",
       "      <td>@engineers_feed @physicsJ It’s a bit slow</td>\n",
       "    </tr>\n",
       "    <tr>\n",
       "      <th>1</th>\n",
       "      <td>1</td>\n",
       "      <td>2019-12-31 06:59:34+00:00</td>\n",
       "      <td>elonmusk</td>\n",
       "      <td>@JohnnaCrider1 It’s not ready yet</td>\n",
       "    </tr>\n",
       "    <tr>\n",
       "      <th>2</th>\n",
       "      <td>2</td>\n",
       "      <td>2019-12-31 06:57:57+00:00</td>\n",
       "      <td>elonmusk</td>\n",
       "      <td>@newscientist Explains 🐈 🎥</td>\n",
       "    </tr>\n",
       "    <tr>\n",
       "      <th>3</th>\n",
       "      <td>3</td>\n",
       "      <td>2019-12-31 02:27:28+00:00</td>\n",
       "      <td>elonmusk</td>\n",
       "      <td>@teslaownersSV @rhoehn Thanks all Tesla club m...</td>\n",
       "    </tr>\n",
       "    <tr>\n",
       "      <th>4</th>\n",
       "      <td>4</td>\n",
       "      <td>2019-12-30 23:27:10+00:00</td>\n",
       "      <td>elonmusk</td>\n",
       "      <td>Rest in peace Syd Mead. Your art will endure.</td>\n",
       "    </tr>\n",
       "  </tbody>\n",
       "</table>\n",
       "</div>"
      ],
      "text/plain": [
       "   Id                      Date      User  \\\n",
       "0   0 2019-12-31 21:37:06+00:00  elonmusk   \n",
       "1   1 2019-12-31 06:59:34+00:00  elonmusk   \n",
       "2   2 2019-12-31 06:57:57+00:00  elonmusk   \n",
       "3   3 2019-12-31 02:27:28+00:00  elonmusk   \n",
       "4   4 2019-12-30 23:27:10+00:00  elonmusk   \n",
       "\n",
       "                                               Tweet  \n",
       "0          @engineers_feed @physicsJ It’s a bit slow  \n",
       "1                  @JohnnaCrider1 It’s not ready yet  \n",
       "2                         @newscientist Explains 🐈 🎥  \n",
       "3  @teslaownersSV @rhoehn Thanks all Tesla club m...  \n",
       "4      Rest in peace Syd Mead. Your art will endure.  "
      ]
     },
     "execution_count": 70,
     "metadata": {},
     "output_type": "execute_result"
    }
   ],
   "source": [
    "df1 = df.reset_index().rename(columns={'index':'Id'})\n",
    "df1.head()"
   ]
  },
  {
   "cell_type": "code",
   "execution_count": 52,
   "metadata": {},
   "outputs": [
    {
     "name": "stdout",
     "output_type": "stream",
     "text": [
      "@flcnhvy @Sofiaan @Erdayastronaut It’s not that these things can’t be done, they just absorb a lot of software engineering time, which has great opportunity cost. There are very few excellent software engineers &amp; merely increasing team size results in awful bloatware.\n"
     ]
    }
   ],
   "source": [
    "example = df['Tweet'][100]\n",
    "print(example)"
   ]
  },
  {
   "cell_type": "code",
   "execution_count": 34,
   "metadata": {},
   "outputs": [
    {
     "name": "stdout",
     "output_type": "stream",
     "text": [
      "<class 'pandas.core.frame.DataFrame'>\n",
      "RangeIndex: 5000 entries, 0 to 4999\n",
      "Data columns (total 3 columns):\n",
      " #   Column  Non-Null Count  Dtype              \n",
      "---  ------  --------------  -----              \n",
      " 0   Date    5000 non-null   datetime64[ns, UTC]\n",
      " 1   User    5000 non-null   object             \n",
      " 2   Tweet   5000 non-null   object             \n",
      "dtypes: datetime64[ns, UTC](1), object(2)\n",
      "memory usage: 117.3+ KB\n"
     ]
    }
   ],
   "source": [
    "df.info()"
   ]
  },
  {
   "cell_type": "markdown",
   "metadata": {},
   "source": [
    "### 1. VADER Sentiment Scoring "
   ]
  },
  {
   "cell_type": "code",
   "execution_count": 49,
   "metadata": {},
   "outputs": [],
   "source": [
    "from nltk.sentiment import SentimentIntensityAnalyzer\n",
    "from tqdm.notebook import tqdm\n",
    "\n",
    "sia = SentimentIntensityAnalyzer()"
   ]
  },
  {
   "cell_type": "code",
   "execution_count": 51,
   "metadata": {},
   "outputs": [
    {
     "data": {
      "text/plain": [
       "{'neg': 0.06, 'neu': 0.722, 'pos': 0.218, 'compound': 0.835}"
      ]
     },
     "execution_count": 51,
     "metadata": {},
     "output_type": "execute_result"
    }
   ],
   "source": [
    "sia.polarity_scores(df['Tweet'][100])"
   ]
  },
  {
   "cell_type": "code",
   "execution_count": 60,
   "metadata": {},
   "outputs": [
    {
     "data": {
      "application/vnd.jupyter.widget-view+json": {
       "model_id": "947ade63208d44fe8821a541c1c641e2",
       "version_major": 2,
       "version_minor": 0
      },
      "text/plain": [
       "HBox(children=(FloatProgress(value=0.0, max=5000.0), HTML(value='')))"
      ]
     },
     "metadata": {},
     "output_type": "display_data"
    },
    {
     "name": "stdout",
     "output_type": "stream",
     "text": [
      "\n"
     ]
    }
   ],
   "source": [
    "res = {}\n",
    "for i ,row in tqdm(df1.iterrows(), total=len(df1)):\n",
    "    text = row['Tweet']\n",
    "    myid = row['Id']\n",
    "    res[myid] = sia.polarity_scores(text)"
   ]
  },
  {
   "cell_type": "code",
   "execution_count": 73,
   "metadata": {},
   "outputs": [],
   "source": [
    "vaders = pd.DataFrame(res).T\n",
    "vaders = vaders.reset_index().rename(columns={'index': 'Id'})\n",
    "vaders = vaders.merge(df1, how='left')"
   ]
  },
  {
   "cell_type": "code",
   "execution_count": 74,
   "metadata": {},
   "outputs": [
    {
     "data": {
      "text/html": [
       "<div>\n",
       "<style scoped>\n",
       "    .dataframe tbody tr th:only-of-type {\n",
       "        vertical-align: middle;\n",
       "    }\n",
       "\n",
       "    .dataframe tbody tr th {\n",
       "        vertical-align: top;\n",
       "    }\n",
       "\n",
       "    .dataframe thead th {\n",
       "        text-align: right;\n",
       "    }\n",
       "</style>\n",
       "<table border=\"1\" class=\"dataframe\">\n",
       "  <thead>\n",
       "    <tr style=\"text-align: right;\">\n",
       "      <th></th>\n",
       "      <th>Id</th>\n",
       "      <th>neg</th>\n",
       "      <th>neu</th>\n",
       "      <th>pos</th>\n",
       "      <th>compound</th>\n",
       "      <th>Date</th>\n",
       "      <th>User</th>\n",
       "      <th>Tweet</th>\n",
       "    </tr>\n",
       "  </thead>\n",
       "  <tbody>\n",
       "    <tr>\n",
       "      <th>0</th>\n",
       "      <td>0</td>\n",
       "      <td>0.000</td>\n",
       "      <td>1.000</td>\n",
       "      <td>0.000</td>\n",
       "      <td>0.0000</td>\n",
       "      <td>2019-12-31 21:37:06+00:00</td>\n",
       "      <td>elonmusk</td>\n",
       "      <td>@engineers_feed @physicsJ It’s a bit slow</td>\n",
       "    </tr>\n",
       "    <tr>\n",
       "      <th>1</th>\n",
       "      <td>1</td>\n",
       "      <td>0.345</td>\n",
       "      <td>0.655</td>\n",
       "      <td>0.000</td>\n",
       "      <td>-0.2755</td>\n",
       "      <td>2019-12-31 06:59:34+00:00</td>\n",
       "      <td>elonmusk</td>\n",
       "      <td>@JohnnaCrider1 It’s not ready yet</td>\n",
       "    </tr>\n",
       "    <tr>\n",
       "      <th>2</th>\n",
       "      <td>2</td>\n",
       "      <td>0.000</td>\n",
       "      <td>1.000</td>\n",
       "      <td>0.000</td>\n",
       "      <td>0.0000</td>\n",
       "      <td>2019-12-31 06:57:57+00:00</td>\n",
       "      <td>elonmusk</td>\n",
       "      <td>@newscientist Explains 🐈 🎥</td>\n",
       "    </tr>\n",
       "    <tr>\n",
       "      <th>3</th>\n",
       "      <td>3</td>\n",
       "      <td>0.000</td>\n",
       "      <td>0.748</td>\n",
       "      <td>0.252</td>\n",
       "      <td>0.6588</td>\n",
       "      <td>2019-12-31 02:27:28+00:00</td>\n",
       "      <td>elonmusk</td>\n",
       "      <td>@teslaownersSV @rhoehn Thanks all Tesla club m...</td>\n",
       "    </tr>\n",
       "    <tr>\n",
       "      <th>4</th>\n",
       "      <td>4</td>\n",
       "      <td>0.000</td>\n",
       "      <td>0.696</td>\n",
       "      <td>0.304</td>\n",
       "      <td>0.5423</td>\n",
       "      <td>2019-12-30 23:27:10+00:00</td>\n",
       "      <td>elonmusk</td>\n",
       "      <td>Rest in peace Syd Mead. Your art will endure.</td>\n",
       "    </tr>\n",
       "  </tbody>\n",
       "</table>\n",
       "</div>"
      ],
      "text/plain": [
       "   Id    neg    neu    pos  compound                      Date      User  \\\n",
       "0   0  0.000  1.000  0.000    0.0000 2019-12-31 21:37:06+00:00  elonmusk   \n",
       "1   1  0.345  0.655  0.000   -0.2755 2019-12-31 06:59:34+00:00  elonmusk   \n",
       "2   2  0.000  1.000  0.000    0.0000 2019-12-31 06:57:57+00:00  elonmusk   \n",
       "3   3  0.000  0.748  0.252    0.6588 2019-12-31 02:27:28+00:00  elonmusk   \n",
       "4   4  0.000  0.696  0.304    0.5423 2019-12-30 23:27:10+00:00  elonmusk   \n",
       "\n",
       "                                               Tweet  \n",
       "0          @engineers_feed @physicsJ It’s a bit slow  \n",
       "1                  @JohnnaCrider1 It’s not ready yet  \n",
       "2                         @newscientist Explains 🐈 🎥  \n",
       "3  @teslaownersSV @rhoehn Thanks all Tesla club m...  \n",
       "4      Rest in peace Syd Mead. Your art will endure.  "
      ]
     },
     "execution_count": 74,
     "metadata": {},
     "output_type": "execute_result"
    }
   ],
   "source": [
    "vaders.head()"
   ]
  },
  {
   "cell_type": "code",
   "execution_count": null,
   "metadata": {},
   "outputs": [],
   "source": []
  }
 ],
 "metadata": {
  "kernelspec": {
   "display_name": "Python 3",
   "language": "python",
   "name": "python3"
  },
  "language_info": {
   "codemirror_mode": {
    "name": "ipython",
    "version": 3
   },
   "file_extension": ".py",
   "mimetype": "text/x-python",
   "name": "python",
   "nbconvert_exporter": "python",
   "pygments_lexer": "ipython3",
   "version": "3.7.4"
  }
 },
 "nbformat": 4,
 "nbformat_minor": 4
}
